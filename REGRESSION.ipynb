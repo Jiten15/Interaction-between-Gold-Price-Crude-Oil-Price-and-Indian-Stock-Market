{
  "nbformat": 4,
  "nbformat_minor": 0,
  "metadata": {
    "colab": {
      "name": "Data_Science_Project.ipynb",
      "provenance": []
    },
    "kernelspec": {
      "name": "python3",
      "display_name": "Python 3"
    }
  },
  "cells": [
    {
      "cell_type": "markdown",
      "metadata": {
        "id": "fgxOsE70bSZP"
      },
      "source": [
        "Libraries"
      ]
    },
    {
      "cell_type": "code",
      "metadata": {
        "id": "Q7YGiIXdp_aO"
      },
      "source": [
        "import pandas as pd \r\n",
        "from datetime import datetime\r\n",
        "import numpy as np \r\n",
        "from sklearn.linear_model import LinearRegression\r\n",
        "import matplotlib.pyplot as plt"
      ],
      "execution_count": null,
      "outputs": []
    },
    {
      "cell_type": "markdown",
      "metadata": {
        "id": "0Za9mUFpbWfh"
      },
      "source": [
        "Reading from the CSV"
      ]
    },
    {
      "cell_type": "code",
      "metadata": {
        "id": "CzK5LwKK4RSQ"
      },
      "source": [
        "df = pd.read_csv(\"MONTHLY.csv\")"
      ],
      "execution_count": null,
      "outputs": []
    },
    {
      "cell_type": "markdown",
      "metadata": {
        "id": "V8vYLTQtbZvB"
      },
      "source": [
        "Removing the null rows"
      ]
    },
    {
      "cell_type": "code",
      "metadata": {
        "id": "gwBUDIK2_ltv"
      },
      "source": [
        "df = df.dropna()"
      ],
      "execution_count": null,
      "outputs": []
    },
    {
      "cell_type": "code",
      "metadata": {
        "colab": {
          "base_uri": "https://localhost:8080/",
          "height": 195
        },
        "id": "t1LOvaA56MUx",
        "outputId": "e5620ca4-36fe-47ba-8dbf-6f86f0124c91"
      },
      "source": [
        "df.head()"
      ],
      "execution_count": null,
      "outputs": [
        {
          "output_type": "execute_result",
          "data": {
            "text/html": [
              "<div>\n",
              "<style scoped>\n",
              "    .dataframe tbody tr th:only-of-type {\n",
              "        vertical-align: middle;\n",
              "    }\n",
              "\n",
              "    .dataframe tbody tr th {\n",
              "        vertical-align: top;\n",
              "    }\n",
              "\n",
              "    .dataframe thead th {\n",
              "        text-align: right;\n",
              "    }\n",
              "</style>\n",
              "<table border=\"1\" class=\"dataframe\">\n",
              "  <thead>\n",
              "    <tr style=\"text-align: right;\">\n",
              "      <th></th>\n",
              "      <th>Date</th>\n",
              "      <th>Gold Price</th>\n",
              "      <th>Stock Price</th>\n",
              "      <th>Crude Price(INR/Barrel)</th>\n",
              "      <th>Gold Prices(INR/troy ounce)</th>\n",
              "    </tr>\n",
              "  </thead>\n",
              "  <tbody>\n",
              "    <tr>\n",
              "      <th>0</th>\n",
              "      <td>2020-01-11</td>\n",
              "      <td>1,780.9</td>\n",
              "      <td>12,969.0</td>\n",
              "      <td>3,326.00</td>\n",
              "      <td>1,38,426.3</td>\n",
              "    </tr>\n",
              "    <tr>\n",
              "      <th>1</th>\n",
              "      <td>2020-01-10</td>\n",
              "      <td>1,887.2</td>\n",
              "      <td>11,642.4</td>\n",
              "      <td>2,642.00</td>\n",
              "      <td>1,39,641.6</td>\n",
              "    </tr>\n",
              "    <tr>\n",
              "      <th>2</th>\n",
              "      <td>2020-01-09</td>\n",
              "      <td>1,902.6</td>\n",
              "      <td>11,247.6</td>\n",
              "      <td>2,934.00</td>\n",
              "      <td>1,41,299.3</td>\n",
              "    </tr>\n",
              "    <tr>\n",
              "      <th>3</th>\n",
              "      <td>2020-01-08</td>\n",
              "      <td>1,986.5</td>\n",
              "      <td>11,387.5</td>\n",
              "      <td>3,145.00</td>\n",
              "      <td>1,47,021.3</td>\n",
              "    </tr>\n",
              "    <tr>\n",
              "      <th>4</th>\n",
              "      <td>2020-01-07</td>\n",
              "      <td>1,995.6</td>\n",
              "      <td>11,073.5</td>\n",
              "      <td>3,023.00</td>\n",
              "      <td>1,38,180.5</td>\n",
              "    </tr>\n",
              "  </tbody>\n",
              "</table>\n",
              "</div>"
            ],
            "text/plain": [
              "        Date Gold Price  ...  Crude Price(INR/Barrel) Gold Prices(INR/troy ounce)\n",
              "0 2020-01-11    1,780.9  ...                 3,326.00                  1,38,426.3\n",
              "1 2020-01-10    1,887.2  ...                 2,642.00                  1,39,641.6\n",
              "2 2020-01-09    1,902.6  ...                 2,934.00                  1,41,299.3\n",
              "3 2020-01-08    1,986.5  ...                 3,145.00                  1,47,021.3\n",
              "4 2020-01-07    1,995.6  ...                 3,023.00                  1,38,180.5\n",
              "\n",
              "[5 rows x 5 columns]"
            ]
          },
          "metadata": {
            "tags": []
          },
          "execution_count": 35
        }
      ]
    },
    {
      "cell_type": "markdown",
      "metadata": {
        "id": "mDjvRAENbfUL"
      },
      "source": [
        "Converting the date coulmn to date format. Setting date as the index for creating the data set based on date. It will be easier to split."
      ]
    },
    {
      "cell_type": "code",
      "metadata": {
        "id": "5QZ3zZ8b4TUf"
      },
      "source": [
        "df[\"Date\"] = pd.to_datetime(df[\"Date\"])\r\n",
        "df.set_index('Date',inplace=True)"
      ],
      "execution_count": null,
      "outputs": []
    },
    {
      "cell_type": "code",
      "metadata": {
        "colab": {
          "base_uri": "https://localhost:8080/",
          "height": 195
        },
        "id": "cN8m8-Qb6OtI",
        "outputId": "8d6caba4-512b-4bc2-987c-dc47f40f0e9f"
      },
      "source": [
        "df.head()"
      ],
      "execution_count": null,
      "outputs": [
        {
          "output_type": "execute_result",
          "data": {
            "text/html": [
              "<div>\n",
              "<style scoped>\n",
              "    .dataframe tbody tr th:only-of-type {\n",
              "        vertical-align: middle;\n",
              "    }\n",
              "\n",
              "    .dataframe tbody tr th {\n",
              "        vertical-align: top;\n",
              "    }\n",
              "\n",
              "    .dataframe thead th {\n",
              "        text-align: right;\n",
              "    }\n",
              "</style>\n",
              "<table border=\"1\" class=\"dataframe\">\n",
              "  <thead>\n",
              "    <tr style=\"text-align: right;\">\n",
              "      <th></th>\n",
              "      <th>Date</th>\n",
              "      <th>Gold Price</th>\n",
              "      <th>Stock Price</th>\n",
              "      <th>Crude Price(INR/Barrel)</th>\n",
              "      <th>Gold Prices(INR/troy ounce)</th>\n",
              "    </tr>\n",
              "  </thead>\n",
              "  <tbody>\n",
              "    <tr>\n",
              "      <th>0</th>\n",
              "      <td>2020-01-11</td>\n",
              "      <td>1,780.9</td>\n",
              "      <td>12,969.0</td>\n",
              "      <td>3,326.00</td>\n",
              "      <td>1,38,426.3</td>\n",
              "    </tr>\n",
              "    <tr>\n",
              "      <th>1</th>\n",
              "      <td>2020-01-10</td>\n",
              "      <td>1,887.2</td>\n",
              "      <td>11,642.4</td>\n",
              "      <td>2,642.00</td>\n",
              "      <td>1,39,641.6</td>\n",
              "    </tr>\n",
              "    <tr>\n",
              "      <th>2</th>\n",
              "      <td>2020-01-09</td>\n",
              "      <td>1,902.6</td>\n",
              "      <td>11,247.6</td>\n",
              "      <td>2,934.00</td>\n",
              "      <td>1,41,299.3</td>\n",
              "    </tr>\n",
              "    <tr>\n",
              "      <th>3</th>\n",
              "      <td>2020-01-08</td>\n",
              "      <td>1,986.5</td>\n",
              "      <td>11,387.5</td>\n",
              "      <td>3,145.00</td>\n",
              "      <td>1,47,021.3</td>\n",
              "    </tr>\n",
              "    <tr>\n",
              "      <th>4</th>\n",
              "      <td>2020-01-07</td>\n",
              "      <td>1,995.6</td>\n",
              "      <td>11,073.5</td>\n",
              "      <td>3,023.00</td>\n",
              "      <td>1,38,180.5</td>\n",
              "    </tr>\n",
              "  </tbody>\n",
              "</table>\n",
              "</div>"
            ],
            "text/plain": [
              "        Date Gold Price  ...  Crude Price(INR/Barrel) Gold Prices(INR/troy ounce)\n",
              "0 2020-01-11    1,780.9  ...                 3,326.00                  1,38,426.3\n",
              "1 2020-01-10    1,887.2  ...                 2,642.00                  1,39,641.6\n",
              "2 2020-01-09    1,902.6  ...                 2,934.00                  1,41,299.3\n",
              "3 2020-01-08    1,986.5  ...                 3,145.00                  1,47,021.3\n",
              "4 2020-01-07    1,995.6  ...                 3,023.00                  1,38,180.5\n",
              "\n",
              "[5 rows x 5 columns]"
            ]
          },
          "metadata": {
            "tags": []
          },
          "execution_count": 29
        }
      ]
    },
    {
      "cell_type": "markdown",
      "metadata": {
        "id": "TOYUoubBb4T5"
      },
      "source": [
        "Removing all the commas from the dataframe for convesrion from string to float"
      ]
    },
    {
      "cell_type": "code",
      "metadata": {
        "id": "joJ8DLIyRJIE"
      },
      "source": [
        "df = df.replace(',','', regex=True)"
      ],
      "execution_count": null,
      "outputs": []
    },
    {
      "cell_type": "markdown",
      "metadata": {
        "id": "ShNKsJBpcADL"
      },
      "source": [
        "Plotting the individual relations. First compared to Gold/gram and in the next section to Gold/troy ounce"
      ]
    },
    {
      "cell_type": "code",
      "metadata": {
        "colab": {
          "base_uri": "https://localhost:8080/",
          "height": 452
        },
        "id": "kFl02nXA6bxv",
        "outputId": "1c335a05-fe03-479c-a8a5-b779713b7c38"
      },
      "source": [
        "jet= plt.get_cmap('jet')\r\n",
        "colors = iter(jet(np.linspace(0,1,10)))\r\n",
        "\r\n",
        "def correlation(df,variables, n_rows, n_cols,str):\r\n",
        "    fig = plt.figure(figsize=(10,10))\r\n",
        "    #fig = plt.figure(figsize=(14,9))\r\n",
        "    for i, var in enumerate(variables):\r\n",
        "        ax = fig.add_subplot(n_rows,n_cols,i+1)\r\n",
        "        asset = df.loc[:,var]\r\n",
        "        ax.scatter(df[str], asset, c = next(colors))\r\n",
        "        ax.set_xlabel(str)\r\n",
        "        ax.set_ylabel(\"{}\".format(var))\r\n",
        "        ax.set_title(var +\" vs Gold Prices\")\r\n",
        "    fig.tight_layout() \r\n",
        "    plt.show()\r\n",
        "variables = df.columns[1:3]\r\n",
        "#df2 = df.drop('Gold Prices(INR/troy ounce)',axis=1)\r\n",
        "correlation(df.drop('Gold Prices(INR/troy ounce)',axis=1),variables,2,2,\"Gold Price\")"
      ],
      "execution_count": null,
      "outputs": [
        {
          "output_type": "stream",
          "text": [
            "*c* argument looks like a single numeric RGB or RGBA sequence, which should be avoided as value-mapping will have precedence in case its length matches with *x* & *y*.  Please use the *color* keyword-argument or provide a 2-D array with a single row if you intend to specify the same RGB or RGBA value for all points.\n",
            "*c* argument looks like a single numeric RGB or RGBA sequence, which should be avoided as value-mapping will have precedence in case its length matches with *x* & *y*.  Please use the *color* keyword-argument or provide a 2-D array with a single row if you intend to specify the same RGB or RGBA value for all points.\n"
          ],
          "name": "stderr"
        },
        {
          "output_type": "display_data",
          "data": {
            "image/png": "[encoded data removed]",
            "text/plain": [
              "<Figure size 720x720 with 2 Axes>"
            ]
          },
          "metadata": {
            "tags": [],
            "needs_background": "light"
          }
        }
      ]
    },
    {
      "cell_type": "markdown",
      "metadata": {
        "id": "8faWXPzygNVI"
      },
      "source": [
        "Gold/Troy ounce"
      ]
    },
    {
      "cell_type": "code",
      "metadata": {
        "colab": {
          "base_uri": "https://localhost:8080/",
          "height": 452
        },
        "id": "4KEpI7TF7YLF",
        "outputId": "b7814368-de42-4e3c-dc48-0d4606bcd47b"
      },
      "source": [
        "jet= plt.get_cmap('jet')\r\n",
        "colors = iter(jet(np.linspace(0,1,10)))\r\n",
        "\r\n",
        "def correlation(df,variables, n_rows, n_cols,str):\r\n",
        "    fig = plt.figure(figsize=(10,10))\r\n",
        "    #fig = plt.figure(figsize=(14,9))\r\n",
        "    for i, var in enumerate(variables):\r\n",
        "        ax = fig.add_subplot(n_rows,n_cols,i+1)\r\n",
        "        asset = df.loc[:,var]\r\n",
        "        ax.scatter(df[str], asset, c = next(colors))\r\n",
        "        ax.set_xlabel(str)\r\n",
        "        ax.set_ylabel(\"{}\".format(var))\r\n",
        "        ax.set_title(var +\" vs Gold Prices(INR/troy ounce)\")\r\n",
        "    fig.tight_layout() \r\n",
        "    plt.show()\r\n",
        "variables = df.columns[1:3]\r\n",
        "correlation(df.drop('Gold Price',axis=1),variables,2,2,\"Gold Prices(INR/troy ounce)\")"
      ],
      "execution_count": null,
      "outputs": [
        {
          "output_type": "stream",
          "text": [
            "*c* argument looks like a single numeric RGB or RGBA sequence, which should be avoided as value-mapping will have precedence in case its length matches with *x* & *y*.  Please use the *color* keyword-argument or provide a 2-D array with a single row if you intend to specify the same RGB or RGBA value for all points.\n",
            "*c* argument looks like a single numeric RGB or RGBA sequence, which should be avoided as value-mapping will have precedence in case its length matches with *x* & *y*.  Please use the *color* keyword-argument or provide a 2-D array with a single row if you intend to specify the same RGB or RGBA value for all points.\n"
          ],
          "name": "stderr"
        },
        {
          "output_type": "display_data",
          "data": {
            "image/png": "[encoded data removed]",
            "text/plain": [
              "<Figure size 720x720 with 2 Axes>"
            ]
          },
          "metadata": {
            "tags": [],
            "needs_background": "light"
          }
        }
      ]
    },
    {
      "cell_type": "code",
      "metadata": {
        "colab": {
          "base_uri": "https://localhost:8080/",
          "height": 478
        },
        "id": "imcJNP-GBE9V",
        "outputId": "c75a2421-afcc-481f-9343-a1629c69ed41"
      },
      "source": [
        "fig = plt.figure(figsize=(6,6))\r\n",
        "ax = fig.add_subplot(1,1,1)\r\n",
        "ax.scatter(df[' Crude Price(INR/Barrel)'], df['Stock Price'], c = next(colors))\r\n",
        "ax.set_xlabel('Crude Price(INR/Barrel)')\r\n",
        "ax.set_ylabel('Stock Price')\r\n",
        "ax.set_title(\"Crude Price(INR/Barrel) vs Stock Price\")\r\n",
        "fig.tight_layout() \r\n",
        "plt.show()"
      ],
      "execution_count": 176,
      "outputs": [
        {
          "output_type": "stream",
          "text": [
            "*c* argument looks like a single numeric RGB or RGBA sequence, which should be avoided as value-mapping will have precedence in case its length matches with *x* & *y*.  Please use the *color* keyword-argument or provide a 2-D array with a single row if you intend to specify the same RGB or RGBA value for all points.\n"
          ],
          "name": "stderr"
        },
        {
          "output_type": "display_data",
          "data": {
            "image/png": "[encoded data removed]",
            "text/plain": [
              "<Figure size 432x432 with 1 Axes>"
            ]
          },
          "metadata": {
            "tags": [],
            "needs_background": "light"
          }
        }
      ]
    },
    {
      "cell_type": "markdown",
      "metadata": {
        "id": "dStmy5IhgUDm"
      },
      "source": [
        "Converting data to numeric in the next section"
      ]
    },
    {
      "cell_type": "code",
      "metadata": {
        "id": "ss4x6TuhJXoK"
      },
      "source": [
        "df[\"Gold Price\"] = pd.to_numeric(df[\"Gold Price\"], downcast=\"float\")\r\n",
        "df[\"Stock Price\"] = pd.to_numeric(df[\"Stock Price\"], downcast=\"float\")\r\n",
        "df[\" Crude Price(INR/Barrel)\"] = pd.to_numeric(df[\" Crude Price(INR/Barrel)\"], downcast=\"float\")\r\n",
        "df[\"Gold Prices(INR/troy ounce)\"] = pd.to_numeric(df[\"Gold Prices(INR/troy ounce)\"], downcast=\"float\")"
      ],
      "execution_count": null,
      "outputs": []
    },
    {
      "cell_type": "markdown",
      "metadata": {
        "id": "ho_te7ePgYkt"
      },
      "source": [
        "Using data before year 2015 for training and after 2015 for testing"
      ]
    },
    {
      "cell_type": "code",
      "metadata": {
        "id": "uArvoCYmAqif"
      },
      "source": [
        "train = df[df.index < datetime(year=2015, month=1, day=1)]\r\n",
        "\r\n",
        "test = df[df.index >= datetime(year=2015, month=1, day=1)]\r\n",
        "dates = test.index"
      ],
      "execution_count": null,
      "outputs": []
    },
    {
      "cell_type": "markdown",
      "metadata": {
        "id": "E9v-psLxgf6S"
      },
      "source": [
        "Performing linear regression on the given data"
      ]
    },
    {
      "cell_type": "markdown",
      "metadata": {
        "id": "ODiFKHDSgnn7"
      },
      "source": [
        "First using Y_train and Y_test to be gold"
      ]
    },
    {
      "cell_type": "code",
      "metadata": {
        "colab": {
          "base_uri": "https://localhost:8080/"
        },
        "id": "RqYPUEKv_DOC",
        "outputId": "83b6604b-693e-4734-a391-ab6781c0cad3"
      },
      "source": [
        "lr = LinearRegression()\r\n",
        "X_train = train[[\"Stock Price\",\" Crude Price(INR/Barrel)\"]]\r\n",
        "Y_train = train[\"Gold Price\"]\r\n",
        "lr.fit(X_train,Y_train) "
      ],
      "execution_count": null,
      "outputs": [
        {
          "output_type": "execute_result",
          "data": {
            "text/plain": [
              "LinearRegression(copy_X=True, fit_intercept=True, n_jobs=None, normalize=False)"
            ]
          },
          "metadata": {
            "tags": []
          },
          "execution_count": 120
        }
      ]
    },
    {
      "cell_type": "code",
      "metadata": {
        "id": "KKIiYGbaA23R"
      },
      "source": [
        "X_test = test[[\"Stock Price\",\" Crude Price(INR/Barrel)\"]].values \r\n",
        "Y_test = test[\"Gold Price\"].values"
      ],
      "execution_count": null,
      "outputs": []
    },
    {
      "cell_type": "code",
      "metadata": {
        "id": "HxUbhY5_BEe2"
      },
      "source": [
        "close_predictions = lr.predict(X_test)"
      ],
      "execution_count": null,
      "outputs": []
    },
    {
      "cell_type": "markdown",
      "metadata": {
        "id": "aIp6lLF-hT2l"
      },
      "source": [
        "Finding and printing the mean absolute error"
      ]
    },
    {
      "cell_type": "code",
      "metadata": {
        "id": "ITa3wwWIBPzi"
      },
      "source": [
        "mae = sum(abs(close_predictions - test[\"Gold Price\"].values)) / test.shape[0]"
      ],
      "execution_count": null,
      "outputs": []
    },
    {
      "cell_type": "code",
      "metadata": {
        "colab": {
          "base_uri": "https://localhost:8080/"
        },
        "id": "J_KO8JRdEle4",
        "outputId": "fd678248-e2e9-415f-955c-c69c57a8253c"
      },
      "source": [
        "mae"
      ],
      "execution_count": null,
      "outputs": [
        {
          "output_type": "execute_result",
          "data": {
            "text/plain": [
              "235.66150933923856"
            ]
          },
          "metadata": {
            "tags": []
          },
          "execution_count": 124
        }
      ]
    },
    {
      "cell_type": "code",
      "metadata": {
        "colab": {
          "base_uri": "https://localhost:8080/"
        },
        "id": "wvE6Z3D8RFP5",
        "outputId": "c8972d36-8579-41f9-ec20-2822d7921b2c"
      },
      "source": [
        "close_predictions"
      ],
      "execution_count": null,
      "outputs": [
        {
          "output_type": "execute_result",
          "data": {
            "text/plain": [
              "array([1867.9443, 1633.7035, 1629.1775, 1672.1464, 1621.9509, 1537.008 ,\n",
              "       1399.188 , 1265.3038, 1176.0605, 1667.4728, 1805.4021, 1920.3141,\n",
              "       1854.686 , 1818.5579, 1778.2827, 1738.6849, 1759.5121, 1840.7545,\n",
              "       1813.2296, 1885.2606, 1834.6547, 1727.5336, 1706.8545, 1618.346 ,\n",
              "       1673.2947, 1793.0944, 1910.51  , 1942.6202, 1877.789 , 1854.2504,\n",
              "       1781.7816, 1790.8109, 1676.8643, 1699.5502, 1760.215 , 1671.7028,\n",
              "       1617.1854, 1608.0975, 1528.255 , 1498.2513, 1534.6375, 1445.8695,\n",
              "       1477.6973, 1449.3837, 1449.6826, 1454.7872, 1426.4857, 1390.385 ,\n",
              "       1358.6838, 1372.8502, 1379.0287, 1370.5741, 1325.4415, 1355.9601,\n",
              "       1345.8926, 1272.9489, 1199.9318, 1085.2058, 1143.2968, 1212.1552,\n",
              "       1251.067 , 1300.7798, 1276.3599, 1311.8119, 1347.6257, 1426.8275,\n",
              "       1446.1459, 1408.3326, 1341.3645, 1391.1748, 1353.5751],\n",
              "      dtype=float32)"
            ]
          },
          "metadata": {
            "tags": []
          },
          "execution_count": 125
        }
      ]
    },
    {
      "cell_type": "code",
      "metadata": {
        "colab": {
          "base_uri": "https://localhost:8080/"
        },
        "id": "WvI8-p2IRioE",
        "outputId": "f060688f-c30a-445b-d902-96c4c703aa3d"
      },
      "source": [
        "Y_test"
      ],
      "execution_count": null,
      "outputs": [
        {
          "output_type": "execute_result",
          "data": {
            "text/plain": [
              "array([1780.9, 1887.2, 1902.6, 1986.5, 1995.6, 1827.5, 1770.3, 1706.3,\n",
              "       1598.6, 1587. , 1614.1, 1555.2, 1500.8, 1547.7, 1506. , 1560.4,\n",
              "       1470. , 1450.3, 1353.6, 1340.4, 1350.4, 1375.3, 1384. , 1347.1,\n",
              "       1292.7, 1288.2, 1268.7, 1277.7, 1309.8, 1343.7, 1395. , 1419.1,\n",
              "       1426. , 1419.2, 1439.4, 1391.9, 1357.3, 1347.7, 1357.6, 1388.5,\n",
              "       1340.7, 1314. , 1348.5, 1347.1, 1329.8, 1334.3, 1291.8, 1234.5,\n",
              "       1238.4, 1333.7, 1370.4, 1367.9, 1415.7, 1375. , 1269.3, 1341.4,\n",
              "       1280.9, 1273.3, 1161.9, 1121. , 1123.9, 1195.2, 1183.6, 1216.9,\n",
              "       1183.1, 1270.8, 1280.7, 1273. , 1272.2, 1309.4, 1384.6],\n",
              "      dtype=float32)"
            ]
          },
          "metadata": {
            "tags": []
          },
          "execution_count": 126
        }
      ]
    },
    {
      "cell_type": "markdown",
      "metadata": {
        "id": "z-U9TN0BhJT-"
      },
      "source": [
        "Now using Y_train and Y_test to be gold/troy ounce"
      ]
    },
    {
      "cell_type": "code",
      "metadata": {
        "colab": {
          "base_uri": "https://localhost:8080/"
        },
        "id": "ngdAcpHohcYs",
        "outputId": "78ebc2d6-29bf-4f96-8120-66ff14b401d5"
      },
      "source": [
        "lr = LinearRegression()\r\n",
        "X_train = train[[\"Stock Price\",\" Crude Price(INR/Barrel)\"]]\r\n",
        "Y_train = train[\"Gold Prices(INR/troy ounce)\"]\r\n",
        "lr.fit(X_train,Y_train) "
      ],
      "execution_count": 177,
      "outputs": [
        {
          "output_type": "execute_result",
          "data": {
            "text/plain": [
              "LinearRegression(copy_X=True, fit_intercept=True, n_jobs=None, normalize=False)"
            ]
          },
          "metadata": {
            "tags": []
          },
          "execution_count": 177
        }
      ]
    },
    {
      "cell_type": "code",
      "metadata": {
        "id": "TJ3EMuqjhcSQ"
      },
      "source": [
        "X_test = test[[\"Stock Price\",\" Crude Price(INR/Barrel)\"]].values \r\n",
        "Y_test = test[\"Gold Prices(INR/troy ounce)\"].values"
      ],
      "execution_count": 178,
      "outputs": []
    },
    {
      "cell_type": "code",
      "metadata": {
        "colab": {
          "base_uri": "https://localhost:8080/"
        },
        "id": "xOFiKxmPhcJo",
        "outputId": "fb31da7b-c63b-47ca-8194-de461bb0bb38"
      },
      "source": [
        "close_predictions = lr.predict(X_test)\r\n",
        "mae = sum(abs(close_predictions - test[\"Gold Prices(INR/troy ounce)\"].values)) / test.shape[0]\r\n",
        "print(\"The mean absolute error is:\",mae)"
      ],
      "execution_count": 179,
      "outputs": [
        {
          "output_type": "stream",
          "text": [
            "The mean absolute error is: 11517.900493421053\n"
          ],
          "name": "stdout"
        }
      ]
    },
    {
      "cell_type": "code",
      "metadata": {
        "colab": {
          "base_uri": "https://localhost:8080/"
        },
        "id": "jGnShRWATxtH",
        "outputId": "8151aa62-0ba0-4d9c-83e8-a8941a092482"
      },
      "source": [
        "close_predictions"
      ],
      "execution_count": null,
      "outputs": [
        {
          "output_type": "execute_result",
          "data": {
            "text/plain": [
              "array([ 93935.92 ,  79008.95 ,  79742.234,  82766.72 ,  79650.28 ,\n",
              "        75040.836,  66095.734,  54691.72 ,  51098.86 ,  82909.58 ,\n",
              "        91756.8  , 100309.56 ,  95409.86 ,  93035.62 ,  90953.16 ,\n",
              "        89057.875,  90449.3  ,  95043.21 ,  92487.06 ,  98689.57 ,\n",
              "        95015.39 ,  88811.086,  87062.78 ,  79947.875,  84271.42 ,\n",
              "        95139.86 , 102957.36 , 103431.07 ,  99180.24 ,  99088.64 ,\n",
              "        93274.24 ,  93982.31 ,  86666.625,  87418.55 ,  90755.01 ,\n",
              "        85102.74 ,  81615.89 ,  80593.36 ,  75767.   ,  73026.91 ,\n",
              "        75475.31 ,  69966.58 ,  72215.93 ,  70845.74 ,  71230.09 ,\n",
              "        72449.47 ,  71083.266,  69256.14 ,  66632.016,  66646.46 ,\n",
              "        67177.29 ,  66021.55 ,  62846.86 ,  66240.7  ,  65794.64 ,\n",
              "        60861.78 ,  55372.64 ,  48342.957,  51359.812,  55767.64 ,\n",
              "        58887.914,  62473.727,  60858.35 ,  63611.203,  64900.64 ,\n",
              "        71644.   ,  72997.53 ,  70693.06 ,  64519.336,  67337.16 ,\n",
              "        64609.03 ], dtype=float32)"
            ]
          },
          "metadata": {
            "tags": []
          },
          "execution_count": 130
        }
      ]
    },
    {
      "cell_type": "code",
      "metadata": {
        "colab": {
          "base_uri": "https://localhost:8080/"
        },
        "id": "Utp6xQQBh64H",
        "outputId": "5da34a2b-2510-4f96-dc2e-c1f361ca125a"
      },
      "source": [
        "Y_test"
      ],
      "execution_count": null,
      "outputs": [
        {
          "output_type": "execute_result",
          "data": {
            "text/plain": [
              "array([1780.9, 1887.2, 1902.6, 1986.5, 1995.6, 1827.5, 1770.3, 1706.3,\n",
              "       1598.6, 1587. , 1614.1, 1555.2, 1500.8, 1547.7, 1506. , 1560.4,\n",
              "       1470. , 1450.3, 1353.6, 1340.4, 1350.4, 1375.3, 1384. , 1347.1,\n",
              "       1292.7, 1288.2, 1268.7, 1277.7, 1309.8, 1343.7, 1395. , 1419.1,\n",
              "       1426. , 1419.2, 1439.4, 1391.9, 1357.3, 1347.7, 1357.6, 1388.5,\n",
              "       1340.7, 1314. , 1348.5, 1347.1, 1329.8, 1334.3, 1291.8, 1234.5,\n",
              "       1238.4, 1333.7, 1370.4, 1367.9, 1415.7, 1375. , 1269.3, 1341.4,\n",
              "       1280.9, 1273.3, 1161.9, 1121. , 1123.9, 1195.2, 1183.6, 1216.9,\n",
              "       1183.1, 1270.8, 1280.7, 1273. , 1272.2, 1309.4, 1384.6],\n",
              "      dtype=float32)"
            ]
          },
          "metadata": {
            "tags": []
          },
          "execution_count": 131
        }
      ]
    },
    {
      "cell_type": "markdown",
      "metadata": {
        "id": "wDdEA0sEy-rx"
      },
      "source": [
        "Jumbling the dataframe so that the splitting of train and test is done accordingly"
      ]
    },
    {
      "cell_type": "code",
      "metadata": {
        "id": "N5Gs-pjF6L-9"
      },
      "source": [
        "df = pd.read_csv(\"MONTHLY.csv\")\r\n",
        "df = df.dropna()\r\n",
        "df = df.sample(frac=1).reset_index(drop=True)\r\n",
        "df[\"Date\"] = pd.to_datetime(df[\"Date\"])\r\n",
        "df.set_index('Date',inplace=True)\r\n",
        "df = df.replace(',','', regex=True)\r\n",
        "df[\"Gold Price\"] = pd.to_numeric(df[\"Gold Price\"], downcast=\"float\")\r\n",
        "df[\"Stock Price\"] = pd.to_numeric(df[\"Stock Price\"], downcast=\"float\")\r\n",
        "df[\" Crude Price(INR/Barrel)\"] = pd.to_numeric(df[\" Crude Price(INR/Barrel)\"], downcast=\"float\")\r\n",
        "df[\"Gold Prices(INR/troy ounce)\"] = pd.to_numeric(df[\"Gold Prices(INR/troy ounce)\"], downcast=\"float\")"
      ],
      "execution_count": 172,
      "outputs": []
    },
    {
      "cell_type": "code",
      "metadata": {
        "id": "gL6ls-_I6OJd"
      },
      "source": [
        "train = df.sample(frac=0.7)\r\n",
        "test = df.drop(train.index).reset_index(drop=True)\r\n",
        "train = train.reset_index(drop=True)"
      ],
      "execution_count": 173,
      "outputs": []
    },
    {
      "cell_type": "code",
      "metadata": {
        "colab": {
          "base_uri": "https://localhost:8080/"
        },
        "id": "h7ze7rrMzFgI",
        "outputId": "5c43c0c1-b041-450b-b5a1-8ff25ac449b8"
      },
      "source": [
        "dates = test.index\r\n",
        "lr = LinearRegression()\r\n",
        "X_train = train[[\"Stock Price\",\" Crude Price(INR/Barrel)\"]]\r\n",
        "Y_train = train[\"Gold Price\"]\r\n",
        "lr.fit(X_train,Y_train) \r\n",
        "X_test = test[[\"Stock Price\",\" Crude Price(INR/Barrel)\"]].values \r\n",
        "Y_test = test[\"Gold Price\"].values\r\n",
        "close_predictions = lr.predict(X_test)\r\n",
        "mae = sum(abs(close_predictions - test[\"Gold Price\"].values)) / test.shape[0]\r\n",
        "print(\"The mean absolute error with gold/gram is:\",mae)\r\n",
        "\r\n",
        "lr = LinearRegression()\r\n",
        "X_train = train[[\"Stock Price\",\" Crude Price(INR/Barrel)\"]]\r\n",
        "Y_train = train[\"Gold Prices(INR/troy ounce)\"]\r\n",
        "lr.fit(X_train,Y_train) \r\n",
        "X_test = test[[\"Stock Price\",\" Crude Price(INR/Barrel)\"]].values \r\n",
        "Y_test = test[\"Gold Prices(INR/troy ounce)\"].values\r\n",
        "close_predictions = lr.predict(X_test)\r\n",
        "mae = sum(abs(close_predictions - test[\"Gold Prices(INR/troy ounce)\"].values)) / test.shape[0]\r\n",
        "print(\"The mean absolute error with gold/ounce is:\",mae)"
      ],
      "execution_count": 174,
      "outputs": [
        {
          "output_type": "stream",
          "text": [
            "The mean absolute error with gold/gram is: 192.37062956157484\n",
            "The mean absolute error with gold/ounce is: 65199.79433936404\n"
          ],
          "name": "stdout"
        }
      ]
    },
    {
      "cell_type": "markdown",
      "metadata": {
        "id": "MSXcOOA_Cb7p"
      },
      "source": [
        "Predicting the prices of stock using the other two features"
      ]
    },
    {
      "cell_type": "code",
      "metadata": {
        "colab": {
          "base_uri": "https://localhost:8080/"
        },
        "id": "CDas_1LSCbEm",
        "outputId": "4fdfeb61-5794-4283-a4eb-17cb9c7556ba"
      },
      "source": [
        "df = pd.read_csv(\"MONTHLY.csv\")\r\n",
        "df = df.dropna()\r\n",
        "df = df.sample(frac=1).reset_index(drop=True)\r\n",
        "df[\"Date\"] = pd.to_datetime(df[\"Date\"])\r\n",
        "df.set_index('Date',inplace=True)\r\n",
        "df = df.replace(',','', regex=True)\r\n",
        "df[\"Gold Price\"] = pd.to_numeric(df[\"Gold Price\"], downcast=\"float\")\r\n",
        "df[\"Stock Price\"] = pd.to_numeric(df[\"Stock Price\"], downcast=\"float\")\r\n",
        "df[\" Crude Price(INR/Barrel)\"] = pd.to_numeric(df[\" Crude Price(INR/Barrel)\"], downcast=\"float\")\r\n",
        "df[\"Gold Prices(INR/troy ounce)\"] = pd.to_numeric(df[\"Gold Prices(INR/troy ounce)\"], downcast=\"float\")\r\n",
        "train = df[df.index < datetime(year=2015, month=1, day=1)]\r\n",
        "test = df[df.index >= datetime(year=2015, month=1, day=1)]\r\n",
        "dates = test.index\r\n",
        "lr = LinearRegression()\r\n",
        "X_train = train[[\"Gold Price\",\" Crude Price(INR/Barrel)\"]]\r\n",
        "Y_train = train[\"Stock Price\"]\r\n",
        "lr.fit(X_train,Y_train) \r\n",
        "X_test = test[[\"Gold Price\",\" Crude Price(INR/Barrel)\"]].values \r\n",
        "Y_test = test[\"Stock Price\"].values\r\n",
        "close_predictions = lr.predict(X_test)\r\n",
        "mae = sum(abs(close_predictions - test[\"Stock Price\"].values)) / test.shape[0]\r\n",
        "print(\"Predicting stock: The mean absolute error with gold/gram is:\",mae)\r\n",
        "\r\n",
        "lr = LinearRegression()\r\n",
        "X_train = train[[\"Gold Prices(INR/troy ounce)\",\" Crude Price(INR/Barrel)\"]]\r\n",
        "Y_train = train[\"Stock Price\"]\r\n",
        "lr.fit(X_train,Y_train) \r\n",
        "X_test = test[[\"Gold Prices(INR/troy ounce)\",\" Crude Price(INR/Barrel)\"]].values \r\n",
        "Y_test = test[\"Stock Price\"].values\r\n",
        "close_predictions = lr.predict(X_test)\r\n",
        "mae = sum(abs(close_predictions - test[\"Stock Price\"].values)) / test.shape[0]\r\n",
        "print(\"Predicting stock: The mean absolute error with gold/ounce is:\",mae)"
      ],
      "execution_count": 180,
      "outputs": [
        {
          "output_type": "stream",
          "text": [
            "Predicting stock: The mean absolute error with gold/gram is: 4892.948950539173\n",
            "Predicting stock: The mean absolute error with gold/ounce is: 4240.459204445423\n"
          ],
          "name": "stdout"
        }
      ]
    },
    {
      "cell_type": "markdown",
      "metadata": {
        "id": "97P3wXFNCi-a"
      },
      "source": [
        "Preidicting the price of crude oil using the other two features"
      ]
    },
    {
      "cell_type": "code",
      "metadata": {
        "colab": {
          "base_uri": "https://localhost:8080/"
        },
        "id": "v94X4BHTCpRk",
        "outputId": "a91ed69e-9e9f-41e3-a43a-2e1ddde431a9"
      },
      "source": [
        "df = pd.read_csv(\"MONTHLY.csv\")\r\n",
        "df = df.dropna()\r\n",
        "df = df.sample(frac=1).reset_index(drop=True)\r\n",
        "df[\"Date\"] = pd.to_datetime(df[\"Date\"])\r\n",
        "df.set_index('Date',inplace=True)\r\n",
        "df = df.replace(',','', regex=True)\r\n",
        "df[\"Gold Price\"] = pd.to_numeric(df[\"Gold Price\"], downcast=\"float\")\r\n",
        "df[\"Stock Price\"] = pd.to_numeric(df[\"Stock Price\"], downcast=\"float\")\r\n",
        "df[\" Crude Price(INR/Barrel)\"] = pd.to_numeric(df[\" Crude Price(INR/Barrel)\"], downcast=\"float\")\r\n",
        "df[\"Gold Prices(INR/troy ounce)\"] = pd.to_numeric(df[\"Gold Prices(INR/troy ounce)\"], downcast=\"float\")\r\n",
        "train = df[df.index < datetime(year=2015, month=1, day=1)]\r\n",
        "test = df[df.index >= datetime(year=2015, month=1, day=1)]\r\n",
        "dates = test.index\r\n",
        "lr = LinearRegression()\r\n",
        "X_train = train[[\"Gold Price\",\" Crude Price(INR/Barrel)\"]]\r\n",
        "Y_train = train[\"Stock Price\"]\r\n",
        "lr.fit(X_train,Y_train) \r\n",
        "X_test = test[[\"Gold Price\",\"Stock Price\"]].values \r\n",
        "Y_test = test[\" Crude Price(INR/Barrel)\"].values\r\n",
        "close_predictions = lr.predict(X_test)\r\n",
        "mae = sum(abs(close_predictions - test[\" Crude Price(INR/Barrel)\"].values)) / test.shape[0]\r\n",
        "print(\"Predicting crude: The mean absolute error with gold/gram is:\",mae)\r\n",
        "\r\n",
        "lr = LinearRegression()\r\n",
        "X_train = train[[\"Gold Prices(INR/troy ounce)\",\" Crude Price(INR/Barrel)\"]]\r\n",
        "Y_train = train[\"Stock Price\"]\r\n",
        "lr.fit(X_train,Y_train) \r\n",
        "X_test = test[[\"Gold Prices(INR/troy ounce)\",\"Stock Price\"]].values \r\n",
        "Y_test = test[\" Crude Price(INR/Barrel)\"].values\r\n",
        "close_predictions = lr.predict(X_test)\r\n",
        "mae = sum(abs(close_predictions - test[\" Crude Price(INR/Barrel)\"].values)) / test.shape[0]\r\n",
        "print(\"Predicting crude: The mean absolute error with gold/ounce is:\",mae)"
      ],
      "execution_count": 181,
      "outputs": [
        {
          "output_type": "stream",
          "text": [
            "Predicting crude: The mean absolute error with gold/gram is: 4871.106073943662\n",
            "Predicting crude: The mean absolute error with gold/ounce is: 4795.497778664173\n"
          ],
          "name": "stdout"
        }
      ]
    },
    {
      "cell_type": "markdown",
      "metadata": {
        "id": "BurxjHl8h8_w"
      },
      "source": [
        "Now calculating the correlation co-efficients"
      ]
    },
    {
      "cell_type": "code",
      "metadata": {
        "id": "izQzNU0QRlDF"
      },
      "source": [
        "from numpy import cov\r\n",
        "covariance = cov(df[\"Gold Price\"], df[\"Stock Price\"])"
      ],
      "execution_count": null,
      "outputs": []
    },
    {
      "cell_type": "code",
      "metadata": {
        "id": "fFgPrxl7T1yR"
      },
      "source": [
        "from scipy.stats import pearsonr\r\n",
        "corrGold_Stock, _ = pearsonr(df[\"Gold Price\"], df[\"Stock Price\"])\r\n",
        "corrGold_Crude,_ = pearsonr(df[\"Gold Price\"], df[\" Crude Price(INR/Barrel)\"])\r\n",
        "corrCrude_Stock,_  = pearsonr(df[\" Crude Price(INR/Barrel)\"], df[\"Stock Price\"])\r\n",
        "corrGold_Gold, _ = pearsonr(df[\"Gold Price\"], df[\"Gold Price\"])\r\n",
        "corrCrude_Crude,_ = pearsonr(df[\" Crude Price(INR/Barrel)\"], df[\" Crude Price(INR/Barrel)\"])\r\n",
        "corrStock_Stock,_  = pearsonr(df[\"Stock Price\"], df[\"Stock Price\"])"
      ],
      "execution_count": null,
      "outputs": []
    },
    {
      "cell_type": "code",
      "metadata": {
        "colab": {
          "base_uri": "https://localhost:8080/"
        },
        "id": "y-bqfKXjWKnb",
        "outputId": "7dea8a10-0d01-490a-eda6-6c91a7371d72"
      },
      "source": [
        "print(\"Pearson Correlation between gold and stock is:\",corrGold_Stock)\r\n",
        "print(\"Pearson Correlation between gold and crude is:\",corrGold_Crude)\r\n",
        "print(\"Pearson Correlation between crude and stock is:\",corrCrude_Stock)\r\n",
        "print(\"Pearson Correlation between gold and gold is:\",corrGold_Gold)\r\n",
        "print(\"Pearson Correlation between stock and stock is:\",corrStock_Stock)\r\n",
        "print(\"Pearson Correlation between crude and crude is:\",corrCrude_Crude)"
      ],
      "execution_count": null,
      "outputs": [
        {
          "output_type": "stream",
          "text": [
            "Pearson Correlation between gold and stock is: 0.6474600892793825\n",
            "Pearson Correlation between gold and crude is: 0.37729575987645375\n",
            "Pearson Correlation between crude and stock is: 0.08844070481533414\n",
            "Pearson Correlation between gold and gold is: 1.0\n",
            "Pearson Correlation between stock and stock is: 1.0\n",
            "Pearson Correlation between crude and crude is: 1.0\n"
          ],
          "name": "stdout"
        }
      ]
    },
    {
      "cell_type": "code",
      "metadata": {
        "id": "ctojv1vgXKDV"
      },
      "source": [
        "from scipy.stats import spearmanr\r\n",
        "corrGold_Stocks, _ = spearmanr(df[\"Gold Price\"], df[\"Stock Price\"])\r\n",
        "corrGold_Crudes,_ = spearmanr(df[\"Gold Price\"], df[\" Crude Price(INR/Barrel)\"])\r\n",
        "corrCrude_Stocks,_  = spearmanr(df[\" Crude Price(INR/Barrel)\"], df[\"Stock Price\"])\r\n",
        "corrGold_Golds, _ = spearmanr(df[\"Gold Price\"], df[\"Gold Price\"])\r\n",
        "corrCrude_Crudes,_ = spearmanr(df[\" Crude Price(INR/Barrel)\"], df[\" Crude Price(INR/Barrel)\"])\r\n",
        "corrStock_Stocks,_  = spearmanr(df[\"Stock Price\"], df[\"Stock Price\"])"
      ],
      "execution_count": null,
      "outputs": []
    },
    {
      "cell_type": "code",
      "metadata": {
        "colab": {
          "base_uri": "https://localhost:8080/"
        },
        "id": "oCofq50SXX6r",
        "outputId": "fcb0e0a5-6482-4172-ca5b-32db4ab20abd"
      },
      "source": [
        "print(\"Spearman Correlation between gold and stock is:\",corrGold_Stocks)\r\n",
        "print(\"Spearman Correlation between gold and crude is:\",corrGold_Crudes)\r\n",
        "print(\"Spearman Correlation between crude and stock is:\",corrCrude_Stocks)\r\n",
        "print(\"Spearman Correlation between gold and gold is:\",corrGold_Golds)\r\n",
        "print(\"Spearman Correlation between stock and stock is:\",corrStock_Stocks)\r\n",
        "print(\"Spearman Correlation between crude and crude is:\",corrCrude_Crudes)"
      ],
      "execution_count": null,
      "outputs": [
        {
          "output_type": "stream",
          "text": [
            "Spearman Correlation between gold and stock is: 0.6458969435544034\n",
            "Spearman Correlation between gold and crude is: 0.4185931800906473\n",
            "Spearman Correlation between crude and stock is: 0.2239088711870706\n",
            "Spearman Correlation between gold and gold is: 1.0\n",
            "Spearman Correlation between stock and stock is: 1.0\n",
            "Spearman Correlation between crude and crude is: 1.0\n"
          ],
          "name": "stdout"
        }
      ]
    },
    {
      "cell_type": "code",
      "metadata": {
        "colab": {
          "base_uri": "https://localhost:8080/"
        },
        "id": "yWMjH8wPXmxJ",
        "outputId": "6c259b22-1db2-425c-aeab-23f7d578e7f7"
      },
      "source": [
        "#Now changing the gold price to troy ounce\r\n",
        "corrGold_Stock, _ = pearsonr(df[\"Gold Prices(INR/troy ounce)\"], df[\"Stock Price\"])\r\n",
        "corrGold_Crude,_ = pearsonr(df[\"Gold Prices(INR/troy ounce)\"], df[\" Crude Price(INR/Barrel)\"])\r\n",
        "corrCrude_Stock,_  = pearsonr(df[\" Crude Price(INR/Barrel)\"], df[\"Stock Price\"])\r\n",
        "corrGold_Gold, _ = pearsonr(df[\"Gold Prices(INR/troy ounce)\"], df[\"Gold Prices(INR/troy ounce)\"])\r\n",
        "corrCrude_Crude,_ = pearsonr(df[\" Crude Price(INR/Barrel)\"], df[\" Crude Price(INR/Barrel)\"])\r\n",
        "corrStock_Stock,_  = pearsonr(df[\"Stock Price\"], df[\"Stock Price\"])\r\n",
        "print(\"Pearson Correlation between gold and stock is:\",corrGold_Stock)\r\n",
        "print(\"Pearson Correlation between gold and crude is:\",corrGold_Crude)\r\n",
        "print(\"Pearson Correlation between crude and stock is:\",corrCrude_Stock)\r\n",
        "print(\"Pearson Correlation between gold and gold is:\",corrGold_Gold)\r\n",
        "print(\"Pearson Correlation between stock and stock is:\",corrStock_Stock)\r\n",
        "print(\"Pearson Correlation between crude and crude is:\",corrCrude_Crude)"
      ],
      "execution_count": null,
      "outputs": [
        {
          "output_type": "stream",
          "text": [
            "Pearson Correlation between gold and stock is: 0.8080782292286126\n",
            "Pearson Correlation between gold and crude is: 0.255047146945988\n",
            "Pearson Correlation between crude and stock is: 0.08844070481533414\n",
            "Pearson Correlation between gold and gold is: 1.0\n",
            "Pearson Correlation between stock and stock is: 1.0\n",
            "Pearson Correlation between crude and crude is: 1.0\n"
          ],
          "name": "stdout"
        }
      ]
    },
    {
      "cell_type": "code",
      "metadata": {
        "colab": {
          "base_uri": "https://localhost:8080/"
        },
        "id": "sysHwtO7X64B",
        "outputId": "84c8e701-8f9c-4cff-d300-18a1b30eb9bd"
      },
      "source": [
        "corrGold_Stocks, _ = spearmanr(df[\"Gold Prices(INR/troy ounce)\"], df[\"Stock Price\"])\r\n",
        "corrGold_Crudes,_ = spearmanr(df[\"Gold Prices(INR/troy ounce)\"], df[\" Crude Price(INR/Barrel)\"])\r\n",
        "corrCrude_Stocks,_  = spearmanr(df[\" Crude Price(INR/Barrel)\"], df[\"Stock Price\"])\r\n",
        "corrGold_Golds, _ = spearmanr(df[\"Gold Prices(INR/troy ounce)\"], df[\"Gold Prices(INR/troy ounce)\"])\r\n",
        "corrCrude_Crudes,_ = spearmanr(df[\" Crude Price(INR/Barrel)\"], df[\" Crude Price(INR/Barrel)\"])\r\n",
        "corrStock_Stocks,_  = spearmanr(df[\"Stock Price\"], df[\"Stock Price\"])\r\n",
        "print(\"Spearman Correlation between gold and stock is:\",corrGold_Stocks)\r\n",
        "print(\"Spearman Correlation between gold and crude is:\",corrGold_Crudes)\r\n",
        "print(\"Spearman Correlation between crude and stock is:\",corrCrude_Stocks)\r\n",
        "print(\"Spearman Correlation between gold and gold is:\",corrGold_Golds)\r\n",
        "print(\"Spearman Correlation between stock and stock is:\",corrStock_Stocks)\r\n",
        "print(\"Spearman Correlation between crude and crude is:\",corrCrude_Crudes)"
      ],
      "execution_count": null,
      "outputs": [
        {
          "output_type": "stream",
          "text": [
            "Spearman Correlation between gold and stock is: 0.8024404984091436\n",
            "Spearman Correlation between gold and crude is: 0.35533003044583167\n",
            "Spearman Correlation between crude and stock is: 0.2239088711870706\n",
            "Spearman Correlation between gold and gold is: 1.0\n",
            "Spearman Correlation between stock and stock is: 1.0\n",
            "Spearman Correlation between crude and crude is: 1.0\n"
          ],
          "name": "stdout"
        }
      ]
    },
    {
      "cell_type": "code",
      "metadata": {
        "id": "jrtGjPuaYkUm"
      },
      "source": [
        ""
      ],
      "execution_count": null,
      "outputs": []
    },
    {
      "cell_type": "code",
      "metadata": {
        "id": "4rpF_bJz1eTf"
      },
      "source": [
        ""
      ],
      "execution_count": null,
      "outputs": []
    },
    {
      "cell_type": "code",
      "metadata": {
        "id": "cI_sOPgF6Ipr"
      },
      "source": [
        ""
      ],
      "execution_count": null,
      "outputs": []
    }
  ]
}