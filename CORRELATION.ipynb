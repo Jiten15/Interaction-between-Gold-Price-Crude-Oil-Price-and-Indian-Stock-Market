{
  "nbformat": 4,
  "nbformat_minor": 0,
  "metadata": {
    "colab": {
      "name": "data_science project.ipynb",
      "provenance": []
    },
    "kernelspec": {
      "name": "python3",
      "display_name": "Python 3"
    }
  },
  "cells": [
    {
      "cell_type": "code",
      "metadata": {
        "id": "6F041OA1ddz9"
      },
      "source": [
        "import pandas as pd"
      ],
      "execution_count": null,
      "outputs": []
    },
    {
      "cell_type": "code",
      "metadata": {
        "id": "j64bU9q_ytw_"
      },
      "source": [
        "data = '/content/monthly stock,gold & crude.csv'\r\n",
        "\r\n",
        "dataframe = pd.read_csv(data)\r\n",
        "dataframe.head()\r\n",
        "df=dataframe\r\n",
        "dataframe[dataframe.columns[1:]] = dataframe[dataframe.columns[1:]].replace('[\\,]', '', regex=True).astype(float)"
      ],
      "execution_count": null,
      "outputs": []
    },
    {
      "cell_type": "code",
      "metadata": {
        "colab": {
          "base_uri": "https://localhost:8080/",
          "height": 402
        },
        "id": "8ldN3LSYR9SP",
        "outputId": "5eac7760-5927-40f5-801c-cbb31e2db5ee"
      },
      "source": [
        "dataframe"
      ],
      "execution_count": null,
      "outputs": [
        {
          "output_type": "execute_result",
          "data": {
            "text/html": [
              "<div>\n",
              "<style scoped>\n",
              "    .dataframe tbody tr th:only-of-type {\n",
              "        vertical-align: middle;\n",
              "    }\n",
              "\n",
              "    .dataframe tbody tr th {\n",
              "        vertical-align: top;\n",
              "    }\n",
              "\n",
              "    .dataframe thead th {\n",
              "        text-align: right;\n",
              "    }\n",
              "</style>\n",
              "<table border=\"1\" class=\"dataframe\">\n",
              "  <thead>\n",
              "    <tr style=\"text-align: right;\">\n",
              "      <th></th>\n",
              "      <th>Date</th>\n",
              "      <th>Gold Price</th>\n",
              "      <th>Stock Price</th>\n",
              "      <th>Crude Price</th>\n",
              "    </tr>\n",
              "  </thead>\n",
              "  <tbody>\n",
              "    <tr>\n",
              "      <th>0</th>\n",
              "      <td>01-11-2020</td>\n",
              "      <td>1780.9</td>\n",
              "      <td>12969.00</td>\n",
              "      <td>3326.0</td>\n",
              "    </tr>\n",
              "    <tr>\n",
              "      <th>1</th>\n",
              "      <td>01-10-2020</td>\n",
              "      <td>1887.2</td>\n",
              "      <td>11642.40</td>\n",
              "      <td>2642.0</td>\n",
              "    </tr>\n",
              "    <tr>\n",
              "      <th>2</th>\n",
              "      <td>01-09-2020</td>\n",
              "      <td>1902.6</td>\n",
              "      <td>11247.60</td>\n",
              "      <td>2934.0</td>\n",
              "    </tr>\n",
              "    <tr>\n",
              "      <th>3</th>\n",
              "      <td>01-08-2020</td>\n",
              "      <td>1986.5</td>\n",
              "      <td>11387.50</td>\n",
              "      <td>3145.0</td>\n",
              "    </tr>\n",
              "    <tr>\n",
              "      <th>4</th>\n",
              "      <td>01-07-2020</td>\n",
              "      <td>1995.6</td>\n",
              "      <td>11073.50</td>\n",
              "      <td>3023.0</td>\n",
              "    </tr>\n",
              "    <tr>\n",
              "      <th>...</th>\n",
              "      <td>...</td>\n",
              "      <td>...</td>\n",
              "      <td>...</td>\n",
              "      <td>...</td>\n",
              "    </tr>\n",
              "    <tr>\n",
              "      <th>184</th>\n",
              "      <td>01-07-2005</td>\n",
              "      <td>429.9</td>\n",
              "      <td>2312.30</td>\n",
              "      <td>2606.0</td>\n",
              "    </tr>\n",
              "    <tr>\n",
              "      <th>185</th>\n",
              "      <td>01-06-2005</td>\n",
              "      <td>435.9</td>\n",
              "      <td>2220.60</td>\n",
              "      <td>2433.0</td>\n",
              "    </tr>\n",
              "    <tr>\n",
              "      <th>186</th>\n",
              "      <td>01-05-2005</td>\n",
              "      <td>416.3</td>\n",
              "      <td>2087.55</td>\n",
              "      <td>2244.0</td>\n",
              "    </tr>\n",
              "    <tr>\n",
              "      <th>187</th>\n",
              "      <td>01-04-2005</td>\n",
              "      <td>435.0</td>\n",
              "      <td>1902.50</td>\n",
              "      <td>2258.0</td>\n",
              "    </tr>\n",
              "    <tr>\n",
              "      <th>188</th>\n",
              "      <td>01-03-2005</td>\n",
              "      <td>428.7</td>\n",
              "      <td>2035.65</td>\n",
              "      <td>2414.0</td>\n",
              "    </tr>\n",
              "  </tbody>\n",
              "</table>\n",
              "<p>189 rows × 4 columns</p>\n",
              "</div>"
            ],
            "text/plain": [
              "           Date  Gold Price  Stock Price   Crude Price\n",
              "0    01-11-2020      1780.9     12969.00        3326.0\n",
              "1    01-10-2020      1887.2     11642.40        2642.0\n",
              "2    01-09-2020      1902.6     11247.60        2934.0\n",
              "3    01-08-2020      1986.5     11387.50        3145.0\n",
              "4    01-07-2020      1995.6     11073.50        3023.0\n",
              "..          ...         ...          ...           ...\n",
              "184  01-07-2005       429.9      2312.30        2606.0\n",
              "185  01-06-2005       435.9      2220.60        2433.0\n",
              "186  01-05-2005       416.3      2087.55        2244.0\n",
              "187  01-04-2005       435.0      1902.50        2258.0\n",
              "188  01-03-2005       428.7      2035.65        2414.0\n",
              "\n",
              "[189 rows x 4 columns]"
            ]
          },
          "metadata": {
            "tags": []
          },
          "execution_count": 8
        }
      ]
    },
    {
      "cell_type": "code",
      "metadata": {
        "id": "gfq-nkWVd66N"
      },
      "source": [
        "dataframe.dropna(inplace=True)"
      ],
      "execution_count": null,
      "outputs": []
    },
    {
      "cell_type": "code",
      "metadata": {
        "id": "ACSLecLJd69Z"
      },
      "source": [
        "df.drop('Date', inplace=True, axis=1)"
      ],
      "execution_count": null,
      "outputs": []
    },
    {
      "cell_type": "code",
      "metadata": {
        "id": "MxCtAn3fd7Ab",
        "colab": {
          "base_uri": "https://localhost:8080/",
          "height": 402
        },
        "outputId": "603d607b-9082-4f10-f4f9-c9dab489218d"
      },
      "source": [
        "df"
      ],
      "execution_count": null,
      "outputs": [
        {
          "output_type": "execute_result",
          "data": {
            "text/html": [
              "<div>\n",
              "<style scoped>\n",
              "    .dataframe tbody tr th:only-of-type {\n",
              "        vertical-align: middle;\n",
              "    }\n",
              "\n",
              "    .dataframe tbody tr th {\n",
              "        vertical-align: top;\n",
              "    }\n",
              "\n",
              "    .dataframe thead th {\n",
              "        text-align: right;\n",
              "    }\n",
              "</style>\n",
              "<table border=\"1\" class=\"dataframe\">\n",
              "  <thead>\n",
              "    <tr style=\"text-align: right;\">\n",
              "      <th></th>\n",
              "      <th>Gold Price</th>\n",
              "      <th>Stock Price</th>\n",
              "      <th>Crude Price</th>\n",
              "    </tr>\n",
              "  </thead>\n",
              "  <tbody>\n",
              "    <tr>\n",
              "      <th>0</th>\n",
              "      <td>1780.9</td>\n",
              "      <td>12969.00</td>\n",
              "      <td>3326.0</td>\n",
              "    </tr>\n",
              "    <tr>\n",
              "      <th>1</th>\n",
              "      <td>1887.2</td>\n",
              "      <td>11642.40</td>\n",
              "      <td>2642.0</td>\n",
              "    </tr>\n",
              "    <tr>\n",
              "      <th>2</th>\n",
              "      <td>1902.6</td>\n",
              "      <td>11247.60</td>\n",
              "      <td>2934.0</td>\n",
              "    </tr>\n",
              "    <tr>\n",
              "      <th>3</th>\n",
              "      <td>1986.5</td>\n",
              "      <td>11387.50</td>\n",
              "      <td>3145.0</td>\n",
              "    </tr>\n",
              "    <tr>\n",
              "      <th>4</th>\n",
              "      <td>1995.6</td>\n",
              "      <td>11073.50</td>\n",
              "      <td>3023.0</td>\n",
              "    </tr>\n",
              "    <tr>\n",
              "      <th>...</th>\n",
              "      <td>...</td>\n",
              "      <td>...</td>\n",
              "      <td>...</td>\n",
              "    </tr>\n",
              "    <tr>\n",
              "      <th>184</th>\n",
              "      <td>429.9</td>\n",
              "      <td>2312.30</td>\n",
              "      <td>2606.0</td>\n",
              "    </tr>\n",
              "    <tr>\n",
              "      <th>185</th>\n",
              "      <td>435.9</td>\n",
              "      <td>2220.60</td>\n",
              "      <td>2433.0</td>\n",
              "    </tr>\n",
              "    <tr>\n",
              "      <th>186</th>\n",
              "      <td>416.3</td>\n",
              "      <td>2087.55</td>\n",
              "      <td>2244.0</td>\n",
              "    </tr>\n",
              "    <tr>\n",
              "      <th>187</th>\n",
              "      <td>435.0</td>\n",
              "      <td>1902.50</td>\n",
              "      <td>2258.0</td>\n",
              "    </tr>\n",
              "    <tr>\n",
              "      <th>188</th>\n",
              "      <td>428.7</td>\n",
              "      <td>2035.65</td>\n",
              "      <td>2414.0</td>\n",
              "    </tr>\n",
              "  </tbody>\n",
              "</table>\n",
              "<p>189 rows × 3 columns</p>\n",
              "</div>"
            ],
            "text/plain": [
              "     Gold Price  Stock Price   Crude Price\n",
              "0        1780.9     12969.00        3326.0\n",
              "1        1887.2     11642.40        2642.0\n",
              "2        1902.6     11247.60        2934.0\n",
              "3        1986.5     11387.50        3145.0\n",
              "4        1995.6     11073.50        3023.0\n",
              "..          ...          ...           ...\n",
              "184       429.9      2312.30        2606.0\n",
              "185       435.9      2220.60        2433.0\n",
              "186       416.3      2087.55        2244.0\n",
              "187       435.0      1902.50        2258.0\n",
              "188       428.7      2035.65        2414.0\n",
              "\n",
              "[189 rows x 3 columns]"
            ]
          },
          "metadata": {
            "tags": []
          },
          "execution_count": 11
        }
      ]
    },
    {
      "cell_type": "code",
      "metadata": {
        "id": "En0W8bQ5NroM"
      },
      "source": [
        "#df[df.columns[0:]] = df[df.columns[0:]].replace('[\\,]', '', regex=True).astype(float)"
      ],
      "execution_count": null,
      "outputs": []
    },
    {
      "cell_type": "code",
      "metadata": {
        "colab": {
          "base_uri": "https://localhost:8080/",
          "height": 402
        },
        "id": "NcQXhT5fOeZP",
        "outputId": "0a6522cc-f835-40cc-fd52-878d1eeef770"
      },
      "source": [
        "df"
      ],
      "execution_count": null,
      "outputs": [
        {
          "output_type": "execute_result",
          "data": {
            "text/html": [
              "<div>\n",
              "<style scoped>\n",
              "    .dataframe tbody tr th:only-of-type {\n",
              "        vertical-align: middle;\n",
              "    }\n",
              "\n",
              "    .dataframe tbody tr th {\n",
              "        vertical-align: top;\n",
              "    }\n",
              "\n",
              "    .dataframe thead th {\n",
              "        text-align: right;\n",
              "    }\n",
              "</style>\n",
              "<table border=\"1\" class=\"dataframe\">\n",
              "  <thead>\n",
              "    <tr style=\"text-align: right;\">\n",
              "      <th></th>\n",
              "      <th>Gold Price</th>\n",
              "      <th>Stock Price</th>\n",
              "      <th>Crude Price</th>\n",
              "    </tr>\n",
              "  </thead>\n",
              "  <tbody>\n",
              "    <tr>\n",
              "      <th>0</th>\n",
              "      <td>1780.9</td>\n",
              "      <td>12969.00</td>\n",
              "      <td>3326.0</td>\n",
              "    </tr>\n",
              "    <tr>\n",
              "      <th>1</th>\n",
              "      <td>1887.2</td>\n",
              "      <td>11642.40</td>\n",
              "      <td>2642.0</td>\n",
              "    </tr>\n",
              "    <tr>\n",
              "      <th>2</th>\n",
              "      <td>1902.6</td>\n",
              "      <td>11247.60</td>\n",
              "      <td>2934.0</td>\n",
              "    </tr>\n",
              "    <tr>\n",
              "      <th>3</th>\n",
              "      <td>1986.5</td>\n",
              "      <td>11387.50</td>\n",
              "      <td>3145.0</td>\n",
              "    </tr>\n",
              "    <tr>\n",
              "      <th>4</th>\n",
              "      <td>1995.6</td>\n",
              "      <td>11073.50</td>\n",
              "      <td>3023.0</td>\n",
              "    </tr>\n",
              "    <tr>\n",
              "      <th>...</th>\n",
              "      <td>...</td>\n",
              "      <td>...</td>\n",
              "      <td>...</td>\n",
              "    </tr>\n",
              "    <tr>\n",
              "      <th>184</th>\n",
              "      <td>429.9</td>\n",
              "      <td>2312.30</td>\n",
              "      <td>2606.0</td>\n",
              "    </tr>\n",
              "    <tr>\n",
              "      <th>185</th>\n",
              "      <td>435.9</td>\n",
              "      <td>2220.60</td>\n",
              "      <td>2433.0</td>\n",
              "    </tr>\n",
              "    <tr>\n",
              "      <th>186</th>\n",
              "      <td>416.3</td>\n",
              "      <td>2087.55</td>\n",
              "      <td>2244.0</td>\n",
              "    </tr>\n",
              "    <tr>\n",
              "      <th>187</th>\n",
              "      <td>435.0</td>\n",
              "      <td>1902.50</td>\n",
              "      <td>2258.0</td>\n",
              "    </tr>\n",
              "    <tr>\n",
              "      <th>188</th>\n",
              "      <td>428.7</td>\n",
              "      <td>2035.65</td>\n",
              "      <td>2414.0</td>\n",
              "    </tr>\n",
              "  </tbody>\n",
              "</table>\n",
              "<p>189 rows × 3 columns</p>\n",
              "</div>"
            ],
            "text/plain": [
              "     Gold Price  Stock Price   Crude Price\n",
              "0        1780.9     12969.00        3326.0\n",
              "1        1887.2     11642.40        2642.0\n",
              "2        1902.6     11247.60        2934.0\n",
              "3        1986.5     11387.50        3145.0\n",
              "4        1995.6     11073.50        3023.0\n",
              "..          ...          ...           ...\n",
              "184       429.9      2312.30        2606.0\n",
              "185       435.9      2220.60        2433.0\n",
              "186       416.3      2087.55        2244.0\n",
              "187       435.0      1902.50        2258.0\n",
              "188       428.7      2035.65        2414.0\n",
              "\n",
              "[189 rows x 3 columns]"
            ]
          },
          "metadata": {
            "tags": []
          },
          "execution_count": 12
        }
      ]
    },
    {
      "cell_type": "code",
      "metadata": {
        "colab": {
          "base_uri": "https://localhost:8080/"
        },
        "id": "c6-Yosn18_Zj",
        "outputId": "1e5bde5f-21c2-4a6a-9bac-2c51876552f7"
      },
      "source": [
        "corrMatrix = df.corr()\r\n",
        "print (corrMatrix)"
      ],
      "execution_count": null,
      "outputs": [
        {
          "output_type": "stream",
          "text": [
            "              Gold Price  Stock Price   Crude Price\n",
            "Gold Price      1.000000     0.647460      0.377296\n",
            "Stock Price     0.647460     1.000000      0.088441\n",
            " Crude Price    0.377296     0.088441      1.000000\n"
          ],
          "name": "stdout"
        }
      ]
    },
    {
      "cell_type": "code",
      "metadata": {
        "id": "Ridnx-JKd7D6"
      },
      "source": [
        "import seaborn as sn\r\n",
        "import matplotlib.pyplot as plt"
      ],
      "execution_count": null,
      "outputs": []
    },
    {
      "cell_type": "code",
      "metadata": {
        "id": "vtPqmMw-d7Gn",
        "colab": {
          "base_uri": "https://localhost:8080/",
          "height": 273
        },
        "outputId": "45c4db06-4cf5-4ca4-b314-928852239fc7"
      },
      "source": [
        "sn.heatmap(corrMatrix, annot=True)\r\n",
        "plt.show()"
      ],
      "execution_count": null,
      "outputs": [
        {
          "output_type": "display_data",
          "data": {
            "image/png": "[encoded data removed]",
            "text/plain": [
              "<Figure size 432x288 with 2 Axes>"
            ]
          },
          "metadata": {
            "tags": [],
            "needs_background": "light"
          }
        }
      ]
    },
    {
      "cell_type": "code",
      "metadata": {
        "id": "mGUHJvp12Bpu"
      },
      "source": [
        "#df.plot(x ='Date', y='Gold Price', kind = 'line')\r\n",
        "#df.plot(x ='Date', y='Crude Price', kind = 'line')\r\n",
        "\r\n",
        "\r\n",
        "\r\n",
        "#df.plot(kind='line',x='Date',y='Gold Price')\r\n",
        "#df.plot(kind='line',x='Date',y='Crude Price', color='red')\r\n",
        "#plt.show()"
      ],
      "execution_count": null,
      "outputs": []
    },
    {
      "cell_type": "code",
      "metadata": {
        "id": "Zgq8eSHFVIvE"
      },
      "source": [
        "import matplotlib.pyplot as plt\r\n",
        "%matplotlib inline"
      ],
      "execution_count": null,
      "outputs": []
    },
    {
      "cell_type": "code",
      "metadata": {
        "id": "RpgG7hyld7Jw",
        "colab": {
          "base_uri": "https://localhost:8080/",
          "height": 282
        },
        "outputId": "5c5f70e8-78c5-476d-a752-39ad56b8a746"
      },
      "source": [
        "\r\n",
        "plt.plot(dataframe)\r\n",
        "plt.legend(['Gold Price','Stock Price','Crude Price'], loc=2)\r\n"
      ],
      "execution_count": null,
      "outputs": [
        {
          "output_type": "execute_result",
          "data": {
            "text/plain": [
              "<matplotlib.legend.Legend at 0x7f542af3ccc0>"
            ]
          },
          "metadata": {
            "tags": []
          },
          "execution_count": 16
        },
        {
          "output_type": "display_data",
          "data": {
            "image/png": "[encoded data removed]",
            "text/plain": [
              "<Figure size 432x288 with 1 Axes>"
            ]
          },
          "metadata": {
            "tags": [],
            "needs_background": "light"
          }
        }
      ]
    },
    {
      "cell_type": "code",
      "metadata": {
        "id": "pt4BAiHGd7Mn"
      },
      "source": [
        "\r\n",
        "\r\n",
        "\r\n"
      ],
      "execution_count": null,
      "outputs": []
    },
    {
      "cell_type": "code",
      "metadata": {
        "id": "nVxjtiKZ9zf1"
      },
      "source": [
        ""
      ],
      "execution_count": null,
      "outputs": []
    },
    {
      "cell_type": "code",
      "metadata": {
        "id": "8NlgSthid7P2"
      },
      "source": [
        ""
      ],
      "execution_count": null,
      "outputs": []
    },
    {
      "cell_type": "code",
      "metadata": {
        "id": "-Lu0QWmrd7Sv"
      },
      "source": [
        ""
      ],
      "execution_count": null,
      "outputs": []
    },
    {
      "cell_type": "code",
      "metadata": {
        "id": "X07J-6rrd7WA"
      },
      "source": [
        ""
      ],
      "execution_count": null,
      "outputs": []
    }
  ]
}